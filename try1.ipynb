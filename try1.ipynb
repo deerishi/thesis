{
 "cells": [
  {
   "cell_type": "code",
   "execution_count": 1,
   "metadata": {
    "collapsed": false,
    "scrolled": true
   },
   "outputs": [
    {
     "name": "stdout",
     "output_type": "stream",
     "text": [
      "hi\n"
     ]
    }
   ],
   "source": [
    "import json\n",
    "import requests\n",
    "from github import Github\n",
    "import mysql.connector\n",
    "from mysql.connector import errorcode\n",
    "from os.path import expanduser\n",
    "home=expanduser('~')\n",
    "print 'hi'\n"
   ]
  },
  {
   "cell_type": "code",
   "execution_count": 2,
   "metadata": {
    "collapsed": false
   },
   "outputs": [
    {
     "name": "stdout",
     "output_type": "stream",
     "text": [
      "https://api.github.com/repos/jquery/jquery/pulls/comments?access_token=6fca6b10547db86c496e728cde80b715f7e4099a&per_page=300  : done \n",
      "\n",
      "\n",
      "\n",
      "\n",
      "Vary  :  Accept, Authorization, Cookie, X-GitHub-OTP, Accept-Encoding\n",
      "X-GitHub-Media-Type  :  github.v3\n",
      "X-OAuth-Scopes  :  admin:gpg_key, admin:org, admin:org_hook, admin:public_key, admin:repo_hook, delete_repo, gist, notifications, repo, user\n",
      "X-XSS-Protection  :  1; mode=block\n",
      "X-Content-Type-Options  :  nosniff\n",
      "X-Accepted-OAuth-Scopes  :  \n",
      "ETag  :  W/\"ff17e51cb6a32873bd9df74fcd5d5bfd\"\n",
      "Cache-Control  :  private, max-age=60, s-maxage=60\n",
      "Status  :  200 OK\n",
      "X-RateLimit-Remaining  :  3626\n",
      "X-Served-By  :  d021ed23fc00327f4c0f77bc363ef16f\n",
      "Access-Control-Expose-Headers  :  ETag, Link, X-GitHub-OTP, X-RateLimit-Limit, X-RateLimit-Remaining, X-RateLimit-Reset, X-OAuth-Scopes, X-Accepted-OAuth-Scopes, X-Poll-Interval\n",
      "Transfer-Encoding  :  chunked\n",
      "X-GitHub-Request-Id  :  8161AAB3:1598:16CE3670:58117AC5\n",
      "Link  :  <https://api.github.com/repositories/167174/pulls/comments?access_token=6fca6b10547db86c496e728cde80b715f7e4099a&per_page=300&page=2>; rel=\"next\", <https://api.github.com/repositories/167174/pulls/comments?access_token=6fca6b10547db86c496e728cde80b715f7e4099a&per_page=300&page=47>; rel=\"last\"\n",
      "Date  :  Thu, 27 Oct 2016 03:55:50 GMT\n",
      "Access-Control-Allow-Origin  :  *\n",
      "Content-Security-Policy  :  default-src 'none'\n",
      "Content-Encoding  :  gzip\n",
      "Strict-Transport-Security  :  max-age=31536000; includeSubdomains; preload\n",
      "Server  :  GitHub.com\n",
      "X-RateLimit-Limit  :  5000\n",
      "X-Frame-Options  :  deny\n",
      "Content-Type  :  application/json; charset=utf-8\n",
      "X-RateLimit-Reset  :  1477542139\n",
      "\n",
      "\n",
      "\n",
      "\n",
      "\n",
      "the pro si  starred is  3\n",
      "subscriptions is  67\n"
     ]
    },
    {
     "ename": "NameError",
     "evalue": "global name 'followLink' is not defined",
     "output_type": "error",
     "traceback": [
      "\u001b[1;31m---------------------------------------------------------------------------\u001b[0m",
      "\u001b[1;31mNameError\u001b[0m                                 Traceback (most recent call last)",
      "\u001b[1;32m<ipython-input-2-e6031a8cbeb1>\u001b[0m in \u001b[0;36m<module>\u001b[1;34m()\u001b[0m\n\u001b[0;32m     62\u001b[0m     \u001b[1;32mreturn\u001b[0m \u001b[1;33m(\u001b[0m\u001b[0mstarred\u001b[0m\u001b[1;33m,\u001b[0m\u001b[0msubscriptions\u001b[0m\u001b[1;33m,\u001b[0m\u001b[0meventsDoneByTheUser\u001b[0m\u001b[1;33m,\u001b[0m\u001b[0mreceivedEvents\u001b[0m\u001b[1;33m,\u001b[0m\u001b[0morganizations\u001b[0m\u001b[1;33m)\u001b[0m\u001b[1;33m\u001b[0m\u001b[0m\n\u001b[0;32m     63\u001b[0m \u001b[1;33m\u001b[0m\u001b[0m\n\u001b[1;32m---> 64\u001b[1;33m \u001b[1;32mprint\u001b[0m \u001b[1;34m'the pro si '\u001b[0m\u001b[1;33m,\u001b[0m\u001b[0mgetOtherProperties\u001b[0m\u001b[1;33m(\u001b[0m\u001b[1;34m\"deerishi\"\u001b[0m\u001b[1;33m)\u001b[0m\u001b[1;33m\u001b[0m\u001b[0m\n\u001b[0m",
      "\u001b[1;32m<ipython-input-2-e6031a8cbeb1>\u001b[0m in \u001b[0;36mgetOtherProperties\u001b[1;34m(userid)\u001b[0m\n\u001b[0;32m     55\u001b[0m     \u001b[0msubscriptions\u001b[0m\u001b[1;33m=\u001b[0m\u001b[0mgetNumberOfProperties\u001b[0m\u001b[1;33m(\u001b[0m\u001b[0ml1\u001b[0m\u001b[1;33m+\u001b[0m\u001b[1;34m'subscriptions'\u001b[0m\u001b[1;33m+\u001b[0m\u001b[0ml2\u001b[0m\u001b[1;33m)\u001b[0m\u001b[1;33m\u001b[0m\u001b[0m\n\u001b[0;32m     56\u001b[0m     \u001b[1;32mprint\u001b[0m \u001b[1;34m'subscriptions is '\u001b[0m\u001b[1;33m,\u001b[0m\u001b[0msubscriptions\u001b[0m\u001b[1;33m\u001b[0m\u001b[0m\n\u001b[1;32m---> 57\u001b[1;33m     \u001b[0meventsDoneByTheUser\u001b[0m\u001b[1;33m=\u001b[0m\u001b[0mgetNumberOfProperties\u001b[0m\u001b[1;33m(\u001b[0m\u001b[0ml1\u001b[0m\u001b[1;33m+\u001b[0m\u001b[1;34m'events'\u001b[0m\u001b[1;33m+\u001b[0m\u001b[0ml2\u001b[0m\u001b[1;33m)\u001b[0m\u001b[1;33m\u001b[0m\u001b[0m\n\u001b[0m\u001b[0;32m     58\u001b[0m     \u001b[0mreceivedEvents\u001b[0m\u001b[1;33m=\u001b[0m\u001b[0mgetNumberOfProperties\u001b[0m\u001b[1;33m(\u001b[0m\u001b[0ml1\u001b[0m\u001b[1;33m+\u001b[0m\u001b[1;34m'received_events'\u001b[0m\u001b[1;33m+\u001b[0m\u001b[0ml2\u001b[0m\u001b[1;33m)\u001b[0m\u001b[1;33m\u001b[0m\u001b[0m\n\u001b[0;32m     59\u001b[0m     \u001b[0morganizations\u001b[0m\u001b[1;33m=\u001b[0m\u001b[0mgetNumberOfProperties\u001b[0m\u001b[1;33m(\u001b[0m\u001b[0ml1\u001b[0m\u001b[1;33m+\u001b[0m\u001b[1;34m'orgs'\u001b[0m\u001b[1;33m+\u001b[0m\u001b[0ml2\u001b[0m\u001b[1;33m)\u001b[0m\u001b[1;33m\u001b[0m\u001b[0m\n",
      "\u001b[1;32m<ipython-input-2-e6031a8cbeb1>\u001b[0m in \u001b[0;36mgetNumberOfProperties\u001b[1;34m(link)\u001b[0m\n\u001b[0;32m     44\u001b[0m             \u001b[1;31m#means that there is only one page of followers\u001b[0m\u001b[1;33m\u001b[0m\u001b[1;33m\u001b[0m\u001b[0m\n\u001b[0;32m     45\u001b[0m             \u001b[1;32mreturn\u001b[0m \u001b[0mlen\u001b[0m\u001b[1;33m(\u001b[0m\u001b[0mresponse\u001b[0m\u001b[1;33m.\u001b[0m\u001b[0mjson\u001b[0m\u001b[1;33m(\u001b[0m\u001b[1;33m)\u001b[0m\u001b[1;33m)\u001b[0m\u001b[1;33m\u001b[0m\u001b[0m\n\u001b[1;32m---> 46\u001b[1;33m         \u001b[1;33m(\u001b[0m\u001b[0mlink\u001b[0m\u001b[1;33m,\u001b[0m\u001b[0mflag\u001b[0m\u001b[1;33m)\u001b[0m\u001b[1;33m=\u001b[0m\u001b[0mfollowLink\u001b[0m\u001b[1;33m(\u001b[0m\u001b[0mlinkHeader\u001b[0m\u001b[1;33m)\u001b[0m\u001b[1;33m\u001b[0m\u001b[0m\n\u001b[0m\u001b[0;32m     47\u001b[0m     \u001b[1;32mreturn\u001b[0m \u001b[0mnum\u001b[0m\u001b[1;33m\u001b[0m\u001b[0m\n\u001b[0;32m     48\u001b[0m \u001b[1;33m\u001b[0m\u001b[0m\n",
      "\u001b[1;31mNameError\u001b[0m: global name 'followLink' is not defined"
     ]
    }
   ],
   "source": [
    "f=open(home+'/coursework/github token')\n",
    "access_token=(f.readlines()[0].rstrip())\n",
    "\n",
    "def getResponse(url):\n",
    "    response=requests.get(url)\n",
    "    d=response.headers.items()\n",
    "    for (k,v) in response.headers.items():\n",
    "        if k==\"link\":\n",
    "            link=v\n",
    "    return response.status_code,link,response.json()\n",
    "\n",
    "url1=\"https://api.github.com/users/leeight/followers\"\n",
    "url1=\"https://api.github.com/repos/jquery/jquery/pulls/comments\"\n",
    "url=url1+\"?access_token=\"+access_token+\"&per_page=300\"\n",
    "print url ,' : done '\n",
    "response=requests.get(url)\n",
    "\n",
    "print '\\n\\n\\n'\n",
    "for (k,v) in response.headers.items():\n",
    "    print  k,' : ',v\n",
    "    \n",
    "        \n",
    "print '\\n\\n\\n\\n'\n",
    "#print 'the number of followers is ',len(response.json())\n",
    "\n",
    "#API to get the number of followers of a user\n",
    "\n",
    "def getNumberOfProperties(link):\n",
    "    flag=True\n",
    "    #link=link+'?access_token='+access_token+'&per_page=300'\n",
    "    num=0\n",
    "    while(1):\n",
    "       \n",
    "        linkHeader=\"\"\n",
    "        response=requests.get(link)\n",
    "        #print 'link is ',link\n",
    "        num+=len(response.json())\n",
    "        if flag==False:\n",
    "            break\n",
    "        for (k,v) in response.headers.items():\n",
    "            if k.lower()=='link':\n",
    "                linkHeader=v\n",
    "        if(linkHeader==\"\"):\n",
    "            #means that there is only one page of followers\n",
    "            return len(response.json())\n",
    "        (link,flag)=followLink(linkHeader)\n",
    "    return num   \n",
    "        \n",
    "\n",
    "def getOtherProperties(userid):\n",
    "    l1=\"https://api.github.com/users/\"+userid+'/'\n",
    "    l2='?access_token='+access_token+'&per_page=300'\n",
    "    starred=getNumberOfProperties(l1+'starred'+l2)\n",
    "    print 'starred is ',starred\n",
    "    subscriptions=getNumberOfProperties(l1+'subscriptions'+l2)\n",
    "    print 'subscriptions is ',subscriptions\n",
    "    eventsDoneByTheUser=getNumberOfProperties(l1+'events'+l2)\n",
    "    receivedEvents=getNumberOfProperties(l1+'received_events'+l2)\n",
    "    organizations=getNumberOfProperties(l1+'orgs'+l2)\n",
    "    \n",
    "    print 'sucessfully found all properties'\n",
    "    return (starred,subscriptions,eventsDoneByTheUser,receivedEvents,organizations)\n",
    "\n",
    "print 'the pro si ',getOtherProperties(\"deerishi\")"
   ]
  }
 ],
 "metadata": {
  "kernelspec": {
   "display_name": "Python 2",
   "language": "python",
   "name": "python2"
  },
  "language_info": {
   "codemirror_mode": {
    "name": "ipython",
    "version": 2
   },
   "file_extension": ".py",
   "mimetype": "text/x-python",
   "name": "python",
   "nbconvert_exporter": "python",
   "pygments_lexer": "ipython2",
   "version": "2.7.6"
  }
 },
 "nbformat": 4,
 "nbformat_minor": 0
}
