{
 "cells": [
  {
   "cell_type": "code",
   "execution_count": 1,
   "metadata": {
    "collapsed": false,
    "scrolled": true
   },
   "outputs": [
    {
     "name": "stdout",
     "output_type": "stream",
     "text": [
      "hi\n"
     ]
    }
   ],
   "source": [
    "import json\n",
    "import requests\n",
    "from github import Github\n",
    "import mysql.connector\n",
    "from mysql.connector import errorcode\n",
    "from os.path import expanduser\n",
    "home=expanduser('~')\n",
    "print 'hi'\n"
   ]
  },
  {
   "cell_type": "code",
   "execution_count": 29,
   "metadata": {
    "collapsed": false
   },
   "outputs": [
    {
     "name": "stdout",
     "output_type": "stream",
     "text": [
      "https://api.github.com/users/deerishi?access_token=f289e2fb93490d0adf60efe9c83cc390b00ac04a&per_page=100  : done \n",
      "\n",
      "\n",
      "\n",
      "\n",
      "Status  :  403 Forbidden\n",
      "X-RateLimit-Remaining  :  0\n",
      "X-GitHub-Media-Type  :  github.v3\n",
      "X-Content-Type-Options  :  nosniff\n",
      "Content-Security-Policy  :  default-src 'none'\n",
      "Access-Control-Expose-Headers  :  ETag, Link, X-GitHub-OTP, X-RateLimit-Limit, X-RateLimit-Remaining, X-RateLimit-Reset, X-OAuth-Scopes, X-Accepted-OAuth-Scopes, X-Poll-Interval\n",
      "Transfer-Encoding  :  chunked\n",
      "X-GitHub-Request-Id  :  8161AAB3:1596:995A516:58112DAC\n",
      "Strict-Transport-Security  :  max-age=31536000; includeSubdomains; preload\n",
      "X-Accepted-OAuth-Scopes  :  repo\n",
      "Server  :  GitHub.com\n",
      "Content-Encoding  :  gzip\n",
      "X-RateLimit-Limit  :  5000\n",
      "X-OAuth-Scopes  :  admin:gpg_key, admin:org, admin:org_hook, admin:public_key, admin:repo_hook, delete_repo, gist, notifications, repo, user\n",
      "Date  :  Wed, 26 Oct 2016 22:26:52 GMT\n",
      "X-Frame-Options  :  deny\n",
      "Access-Control-Allow-Origin  :  *\n",
      "Content-Type  :  application/json; charset=utf-8\n",
      "X-XSS-Protection  :  1; mode=block\n",
      "X-RateLimit-Reset  :  1477521829\n",
      "\n",
      "\n",
      "\n",
      "\n",
      "\n"
     ]
    }
   ],
   "source": [
    "f=open(home+'/coursework/github token')\n",
    "access_token=(f.readlines()[0].rstrip())\n",
    "\n",
    "def getResponse(url):\n",
    "    response=requests.get(url)\n",
    "    d=response.headers.items()\n",
    "    for (k,v) in response.headers.items():\n",
    "        if k==\"link\":\n",
    "            link=v\n",
    "    return response.status_code,link,response.json()\n",
    "\n",
    "url1=\"https://api.github.com/users/leeight/followers\"\n",
    "url1=\"https://api.github.com/users/deerishi\"\n",
    "url=url1+\"?access_token=\"+access_token+'&per_page=100'\n",
    "print url ,' : done '\n",
    "response=requests.get(url)\n",
    "\n",
    "print '\\n\\n\\n'\n",
    "for (k,v) in response.headers.items():\n",
    "    print  k,' : ',v\n",
    "    \n",
    "        \n",
    "print '\\n\\n\\n\\n'\n",
    "#print 'the number of followers is ',len(response.json())\n",
    "\n",
    "#API to get the number of followers of a user\n",
    "\n"
   ]
  }
 ],
 "metadata": {
  "kernelspec": {
   "display_name": "Python 2",
   "language": "python",
   "name": "python2"
  },
  "language_info": {
   "codemirror_mode": {
    "name": "ipython",
    "version": 2
   },
   "file_extension": ".py",
   "mimetype": "text/x-python",
   "name": "python",
   "nbconvert_exporter": "python",
   "pygments_lexer": "ipython2",
   "version": "2.7.6"
  }
 },
 "nbformat": 4,
 "nbformat_minor": 0
}
