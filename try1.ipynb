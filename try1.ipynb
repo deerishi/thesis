{
 "cells": [
  {
   "cell_type": "code",
   "execution_count": 3,
   "metadata": {
    "collapsed": false,
    "scrolled": true
   },
   "outputs": [
    {
     "name": "stdout",
     "output_type": "stream",
     "text": [
      "hi\n"
     ]
    }
   ],
   "source": [
    "import json\n",
    "import requests\n",
    "from github import Github\n",
    "import mysql.connector\n",
    "from mysql.connector import errorcode\n",
    "\n",
    "print 'hi'\n"
   ]
  },
  {
   "cell_type": "code",
   "execution_count": 11,
   "metadata": {
    "collapsed": false
   },
   "outputs": [
    {
     "name": "stdout",
     "output_type": "stream",
     "text": [
      "https://api.github.com/users/leeight/followers?access_token=0231643decfea4f7c1d16fdcf893dc6b85592da9&per_page=100\n",
      "vary  :  Accept, Authorization, Cookie, X-GitHub-OTP, Accept-Encoding\n",
      "x-served-by  :  075bb2f6b7031ca3c0e69edb17939fae\n",
      "x-oauth-scopes  :  admin:gpg_key, admin:org, admin:org_hook, admin:public_key, admin:repo_hook, delete_repo, gist, notifications, repo, user\n",
      "x-xss-protection  :  1; mode=block\n",
      "x-content-type-options  :  nosniff\n",
      "x-accepted-oauth-scopes  :  \n",
      "etag  :  W/\"c55d421d4926babff24bb3a952e2f638\"\n",
      "cache-control  :  private, max-age=60, s-maxage=60\n",
      "status  :  200 OK\n",
      "x-ratelimit-remaining  :  4988\n",
      "x-github-media-type  :  github.v3\n",
      "access-control-expose-headers  :  ETag, Link, X-GitHub-OTP, X-RateLimit-Limit, X-RateLimit-Remaining, X-RateLimit-Reset, X-OAuth-Scopes, X-Accepted-OAuth-Scopes, X-Poll-Interval\n",
      "transfer-encoding  :  chunked\n",
      "x-github-request-id  :  81617CCC:1598:E205D4:57EEEE96\n",
      "link  :  <https://api.github.com/user/104052/followers?access_token=0231643decfea4f7c1d16fdcf893dc6b85592da9&per_page=100&page=2>; rel=\"next\", <https://api.github.com/user/104052/followers?access_token=0231643decfea4f7c1d16fdcf893dc6b85592da9&per_page=100&page=2>; rel=\"last\"\n",
      "date  :  Fri, 30 Sep 2016 23:00:39 GMT\n",
      "access-control-allow-origin  :  *\n",
      "content-security-policy  :  default-src 'none'\n",
      "content-encoding  :  gzip\n",
      "strict-transport-security  :  max-age=31536000; includeSubdomains; preload\n",
      "server  :  GitHub.com\n",
      "x-ratelimit-limit  :  5000\n",
      "x-frame-options  :  deny\n",
      "content-type  :  application/json; charset=utf-8\n",
      "x-ratelimit-reset  :  1475277618\n",
      "\n",
      "\n",
      "\n",
      "\n",
      "\n",
      "the number of follers is  100\n"
     ]
    },
    {
     "data": {
      "text/plain": [
       "\"\\n(code,link,response)=getResponse(url)\\n#print 'link are ',link\\nwhile(1):\\n    if code==200:\\n        links=link.split(';')\\n        link1=links[0]\\n        #print 'link1 is ',link1,'\\n'\\n        link2=links[1].split(',')\\n        #print ' 1 link2 is ',link2\\n\\n        link2=link2[1]\\n        link2=link2.rstrip()\\n        link2=link2.lstrip()\\n        #print '2 link2 is \\n',link2\\n        link1=link1[1:-1]\\n        link2=link2[1:-1]\\n        print 'link1 is ',link1 ,' link2 is ',link2\\n        if link1==link2:\\n            break;\\n        (code,link,response)=getResponse(link1)\\n        print '\\n\\n'\\n    #while()\\n\\n\\n\""
      ]
     },
     "execution_count": 11,
     "metadata": {},
     "output_type": "execute_result"
    }
   ],
   "source": [
    "\n",
    "access_token='0231643decfea4f7c1d16fdcf893dc6b85592da9'\n",
    "\n",
    "def getResponse(url):\n",
    "    response=requests.get(url)\n",
    "    d=response.headers.items()\n",
    "    for (k,v) in response.headers.items():\n",
    "        if k==\"link\":\n",
    "            link=v\n",
    "    return response.status_code,link,response.json()\n",
    "\n",
    "url1=\"https://api.github.com/users/leeight/followers\"\n",
    "url=url1+\"?access_token=\"+access_token+\"&per_page=100\"\n",
    "print url\n",
    "response=requests.get(url)\n",
    "\n",
    "for (k,v) in response.headers.items():\n",
    "    print  k,' : ',v\n",
    "\n",
    "        \n",
    "print '\\n\\n\\n\\n'\n",
    "print 'the number of follers is ',len(response.json())\n",
    "\n",
    "'''\n",
    "(code,link,response)=getResponse(url)\n",
    "#print 'link are ',link\n",
    "while(1):\n",
    "    if code==200:\n",
    "        links=link.split(';')\n",
    "        link1=links[0]\n",
    "        #print 'link1 is ',link1,'\\n'\n",
    "        link2=links[1].split(',')\n",
    "        #print ' 1 link2 is ',link2\n",
    "\n",
    "        link2=link2[1]\n",
    "        link2=link2.rstrip()\n",
    "        link2=link2.lstrip()\n",
    "        #print '2 link2 is \\n',link2\n",
    "        link1=link1[1:-1]\n",
    "        link2=link2[1:-1]\n",
    "        print 'link1 is ',link1 ,' link2 is ',link2\n",
    "        if link1==link2:\n",
    "            break;\n",
    "        (code,link,response)=getResponse(link1)\n",
    "        print '\\n\\n'\n",
    "    #while()\n",
    "\n",
    "\n",
    "'''\n",
    "\n",
    "\n",
    "\n",
    "\n"
   ]
  }
 ],
 "metadata": {
  "kernelspec": {
   "display_name": "Python 2",
   "language": "python",
   "name": "python2"
  },
  "language_info": {
   "codemirror_mode": {
    "name": "ipython",
    "version": 2
   },
   "file_extension": ".py",
   "mimetype": "text/x-python",
   "name": "python",
   "nbconvert_exporter": "python",
   "pygments_lexer": "ipython2",
   "version": "2.7.6"
  }
 },
 "nbformat": 4,
 "nbformat_minor": 0
}
