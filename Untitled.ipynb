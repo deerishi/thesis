{
 "cells": [
  {
   "cell_type": "code",
   "execution_count": 55,
   "metadata": {
    "collapsed": false
   },
   "outputs": [
    {
     "name": "stdout",
     "output_type": "stream",
     "text": [
      "<_sre.SRE_Match object at 0x7f8356d657e8>\n",
      "{/other_user}\n"
     ]
    }
   ],
   "source": [
    "import re\n",
    "\n",
    "s=\"https://api.github.com/users/necolas/following{/other_user}\"\n",
    "\n",
    "pattern=\"{/other_user}$\"\n",
    "a=re.search(pattern,s)\n",
    "print a\n",
    "print a.group(0)"
   ]
  },
  {
   "cell_type": "code",
   "execution_count": 3,
   "metadata": {
    "collapsed": false
   },
   "outputs": [
    {
     "name": "stdout",
     "output_type": "stream",
     "text": [
      "/u4/drishi\n",
      "372c14430c677cd350ee6f2a1bc4a9a0b40947c5\n",
      "\n"
     ]
    }
   ],
   "source": [
    "from os.path import expanduser\n",
    "\n",
    "home=expanduser(\"~\")\n",
    "print home\n",
    "f=open(home+'/coursework/github token')\n",
    "print f.readline()"
   ]
  }
 ],
 "metadata": {
  "kernelspec": {
   "display_name": "Python 2",
   "language": "python",
   "name": "python2"
  },
  "language_info": {
   "codemirror_mode": {
    "name": "ipython",
    "version": 2
   },
   "file_extension": ".py",
   "mimetype": "text/x-python",
   "name": "python",
   "nbconvert_exporter": "python",
   "pygments_lexer": "ipython2",
   "version": "2.7.6"
  }
 },
 "nbformat": 4,
 "nbformat_minor": 0
}
