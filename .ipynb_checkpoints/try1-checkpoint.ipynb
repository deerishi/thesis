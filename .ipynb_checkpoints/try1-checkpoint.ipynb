{
 "cells": [
  {
   "cell_type": "code",
   "execution_count": 1,
   "metadata": {
    "collapsed": false,
    "scrolled": true
   },
   "outputs": [
    {
     "name": "stdout",
     "output_type": "stream",
     "text": [
      "hi\n"
     ]
    }
   ],
   "source": [
    "import json\n",
    "import requests\n",
    "from github import Github\n",
    "import mysql.connector\n",
    "from mysql.connector import errorcode\n",
    "from os.path import expanduser\n",
    "home=expanduser('~')\n",
    "print 'hi'\n"
   ]
  },
  {
   "cell_type": "code",
   "execution_count": 10,
   "metadata": {
    "collapsed": false
   },
   "outputs": [
    {
     "name": "stdout",
     "output_type": "stream",
     "text": [
      "https://api.github.com/users/josh/following?access_token=0f6c88d6b0779a5ea30b14e9b8e931340be7b56a&per_page=100  : done \n",
      "Vary  :  Accept, Authorization, Cookie, X-GitHub-OTP, Accept-Encoding\n",
      "X-GitHub-Media-Type  :  github.v3\n",
      "X-OAuth-Scopes  :  admin:gpg_key, admin:org, admin:org_hook, admin:public_key, admin:repo_hook, delete_repo, gist, notifications, repo, user\n",
      "X-XSS-Protection  :  1; mode=block\n",
      "X-Content-Type-Options  :  nosniff\n",
      "X-Accepted-OAuth-Scopes  :  \n",
      "ETag  :  W/\"d469f44959a8bf2717688fbd00635949\"\n",
      "Cache-Control  :  private, max-age=60, s-maxage=60\n",
      "Status  :  200 OK\n",
      "X-RateLimit-Remaining  :  4989\n",
      "X-Served-By  :  07ff1c8a09e44b62e277fae50a1b1dc4\n",
      "Access-Control-Expose-Headers  :  ETag, Link, X-GitHub-OTP, X-RateLimit-Limit, X-RateLimit-Remaining, X-RateLimit-Reset, X-OAuth-Scopes, X-Accepted-OAuth-Scopes, X-Poll-Interval\n",
      "Transfer-Encoding  :  chunked\n",
      "X-GitHub-Request-Id  :  8161AAB3:1595:4D0FE16:58111185\n",
      "Date  :  Wed, 26 Oct 2016 20:26:45 GMT\n",
      "Access-Control-Allow-Origin  :  *\n",
      "Content-Security-Policy  :  default-src 'none'\n",
      "Content-Encoding  :  gzip\n",
      "Strict-Transport-Security  :  max-age=31536000; includeSubdomains; preload\n",
      "Server  :  GitHub.com\n",
      "X-RateLimit-Limit  :  5000\n",
      "X-Frame-Options  :  deny\n",
      "Content-Type  :  application/json; charset=utf-8\n",
      "X-RateLimit-Reset  :  1477517127\n",
      "\n",
      "\n",
      "\n",
      "\n",
      "\n",
      "the number of events done are  in followLinks link1 is :  https://api.github.com/user/14985020/events?access_token=0f6c88d6b0779a5ea30b14e9b8e931340be7b56a&per_page=100&page=2  link2 is :  https://api.github.com/user/14985020/events?access_token=0f6c88d6b0779a5ea30b14e9b8e931340be7b56a&per_page=100&page=3 \n",
      "\n",
      "\n",
      "in followLinks link1 is :  https://api.github.com/user/14985020/events?access_token=0f6c88d6b0779a5ea30b14e9b8e931340be7b56a&per_page=100&page=3  link2 is :  https://api.github.com/user/14985020/events?access_token=0f6c88d6b0779a5ea30b14e9b8e931340be7b56a&per_page=100&page=3 \n",
      "\n",
      "\n",
      "300\n",
      "user proerties are \n"
     ]
    },
    {
     "ename": "AttributeError",
     "evalue": "'Response' object has no attribute 'data'",
     "output_type": "error",
     "traceback": [
      "\u001b[1;31m---------------------------------------------------------------------------\u001b[0m",
      "\u001b[1;31mAttributeError\u001b[0m                            Traceback (most recent call last)",
      "\u001b[1;32m<ipython-input-10-6e295a350274>\u001b[0m in \u001b[0;36m<module>\u001b[1;34m()\u001b[0m\n\u001b[0;32m     84\u001b[0m \u001b[1;33m\u001b[0m\u001b[0m\n\u001b[0;32m     85\u001b[0m \u001b[1;32mprint\u001b[0m \u001b[1;34m'user proerties are '\u001b[0m\u001b[1;33m\u001b[0m\u001b[0m\n\u001b[1;32m---> 86\u001b[1;33m \u001b[0mgetUserProperties\u001b[0m\u001b[1;33m(\u001b[0m\u001b[1;34m\"deerishi\"\u001b[0m\u001b[1;33m)\u001b[0m\u001b[1;33m\u001b[0m\u001b[0m\n\u001b[0m\u001b[0;32m     87\u001b[0m \u001b[1;33m\u001b[0m\u001b[0m\n\u001b[0;32m     88\u001b[0m \u001b[1;32mprint\u001b[0m \u001b[1;34m'the number of received events are '\u001b[0m\u001b[1;33m,\u001b[0m\u001b[0mgetNumberOfProperties\u001b[0m\u001b[1;33m(\u001b[0m\u001b[1;34m\"https://api.github.com/users/zeit/received_events\"\u001b[0m\u001b[1;33m)\u001b[0m\u001b[1;33m\u001b[0m\u001b[0m\n",
      "\u001b[1;32m<ipython-input-10-6e295a350274>\u001b[0m in \u001b[0;36mgetUserProperties\u001b[1;34m(userid)\u001b[0m\n\u001b[0;32m     45\u001b[0m     \u001b[0mresponse\u001b[0m\u001b[1;33m=\u001b[0m\u001b[0mrequests\u001b[0m\u001b[1;33m.\u001b[0m\u001b[0mget\u001b[0m\u001b[1;33m(\u001b[0m\u001b[0mlink\u001b[0m\u001b[1;33m)\u001b[0m\u001b[1;33m\u001b[0m\u001b[0m\n\u001b[0;32m     46\u001b[0m     \u001b[0mdata\u001b[0m\u001b[1;33m=\u001b[0m\u001b[0mresponse\u001b[0m\u001b[1;33m.\u001b[0m\u001b[0mjson\u001b[0m\u001b[1;33m(\u001b[0m\u001b[1;33m)\u001b[0m\u001b[1;33m\u001b[0m\u001b[0m\n\u001b[1;32m---> 47\u001b[1;33m     \u001b[1;32mreturn\u001b[0m \u001b[1;33m(\u001b[0m\u001b[0mresponse\u001b[0m\u001b[1;33m.\u001b[0m\u001b[0mdata\u001b[0m\u001b[1;33m[\u001b[0m\u001b[1;34m\"public_repos\"\u001b[0m\u001b[1;33m]\u001b[0m\u001b[1;33m,\u001b[0m\u001b[0mdata\u001b[0m\u001b[1;33m[\u001b[0m\u001b[1;34m\"public_gists\"\u001b[0m\u001b[1;33m]\u001b[0m\u001b[1;33m,\u001b[0m\u001b[0mdata\u001b[0m\u001b[1;33m[\u001b[0m\u001b[1;34m\"followers\"\u001b[0m\u001b[1;33m]\u001b[0m\u001b[1;33m,\u001b[0m\u001b[0mdata\u001b[0m\u001b[1;33m[\u001b[0m\u001b[1;34m\"following\"\u001b[0m\u001b[1;33m]\u001b[0m\u001b[1;33m)\u001b[0m\u001b[1;33m\u001b[0m\u001b[0m\n\u001b[0m\u001b[0;32m     48\u001b[0m \u001b[1;33m\u001b[0m\u001b[0m\n\u001b[0;32m     49\u001b[0m \u001b[1;32mdef\u001b[0m \u001b[0mgetNumberOfProperties\u001b[0m\u001b[1;33m(\u001b[0m\u001b[0mlink\u001b[0m\u001b[1;33m)\u001b[0m\u001b[1;33m:\u001b[0m\u001b[1;33m\u001b[0m\u001b[0m\n",
      "\u001b[1;31mAttributeError\u001b[0m: 'Response' object has no attribute 'data'"
     ]
    }
   ],
   "source": [
    "f=open(home+'/coursework/github token')\n",
    "access_token=(f.readlines()[0].rstrip())\n",
    "\n",
    "def getResponse(url):\n",
    "    response=requests.get(url)\n",
    "    d=response.headers.items()\n",
    "    for (k,v) in response.headers.items():\n",
    "        if k==\"link\":\n",
    "            link=v\n",
    "    return response.status_code,link,response.json()\n",
    "\n",
    "url1=\"https://api.github.com/users/leeight/followers\"\n",
    "url1=\"https://api.github.com/users/josh/following\"\n",
    "url=url1+\"?access_token=\"+access_token+'&per_page=100'\n",
    "print url ,' : done '\n",
    "response=requests.get(url)\n",
    "\n",
    "for (k,v) in response.headers.items():\n",
    "    print  k,' : ',v\n",
    "    \n",
    "        \n",
    "print '\\n\\n\\n\\n'\n",
    "#print 'the number of followers is ',len(response.json())\n",
    "\n",
    "#API to get the number of followers of a user\n",
    "\n",
    "def followLink(linkHeader):\n",
    "    links=linkHeader.split(';')\n",
    "    link1=links[0]\n",
    "    temp=links[1].split(',')\n",
    "    link2=temp[1]\n",
    "    link2=link2.lstrip()\n",
    "    link2=link2.rstrip()\n",
    "    link2=link2[1:-1]\n",
    "    link1=link1[1:-1]\n",
    "    print 'in followLinks link1 is : ',link1 ,' link2 is : ',link2,'\\n\\n'\n",
    "    if link1==link2:\n",
    "        return (link1,False)\n",
    "    else:\n",
    "        return (link1,True)\n",
    "\n",
    "\n",
    "def getUserProperties(userid):\n",
    "    link=\"https://api.github.com/users/\"+userid+\"?access_token=\"+access_token\n",
    "    response=requests.get(link)\n",
    "    data=response.json()\n",
    "    return (response.data[\"public_repos\"],data[\"public_gists\"],data[\"followers\"],data[\"following\"])\n",
    "    \n",
    "def getNumberOfProperties(link):\n",
    "    flag=True\n",
    "    followers=0\n",
    "    link=link+'?access_token='+access_token+'&per_page=100'\n",
    "    num=0   \n",
    "    while(1):\n",
    "       \n",
    "        linkHeader=\"\"\n",
    "        response=requests.get(link)\n",
    "        #print 'link is ',link\n",
    "        num+=len(response.json())\n",
    "        if flag==False:\n",
    "            break\n",
    "        for (k,v) in response.headers.items():\n",
    "            if k.lower()=='link':\n",
    "                linkHeader=v\n",
    "        if(linkHeader==\"\"):\n",
    "            #means that there is only one page of followers\n",
    "            return len(response.json())\n",
    "        (link,flag)=followLink(linkHeader)\n",
    "    return num        \n",
    "\n",
    "'''\n",
    "print 'the number of followers are \\n',getNumberOfProperties(\"https://api.github.com/users/leeight/followers\")\n",
    " \n",
    "print 'the number of gists are ',getNumberOfProperties(\"https://api.github.com/users/hoverbird/gists\")\n",
    "\n",
    "print 'the number of users following are ',getNumberOfProperties(\"https://api.github.com/users/josh/following\")\n",
    "\n",
    "print 'the number of subscriptions are ',getNumberOfProperties(\"https://api.github.com/users/josh/subscriptions\")\n",
    "\n",
    "print 'the number of starred are ',getNumberOfProperties(\"https://api.github.com/users/deerishi/starred\")\n",
    "\n",
    "print 'the number of repositories are ',getNumberOfProperties(\"https://api.github.com/users/zeit/repos\")\n",
    "'''\n",
    "print 'the number of events done are ',getNumberOfProperties(\"https://api.github.com/users/zeit/events\")\n",
    "\n",
    "print 'user proerties are '\n",
    "getUserProperties(\"deerishi\")\n",
    "\n",
    "print 'the number of received events are ',getNumberOfProperties(\"https://api.github.com/users/zeit/received_events\")"
   ]
  }
 ],
 "metadata": {
  "kernelspec": {
   "display_name": "Python 2",
   "language": "python",
   "name": "python2"
  },
  "language_info": {
   "codemirror_mode": {
    "name": "ipython",
    "version": 2
   },
   "file_extension": ".py",
   "mimetype": "text/x-python",
   "name": "python",
   "nbconvert_exporter": "python",
   "pygments_lexer": "ipython2",
   "version": "2.7.6"
  }
 },
 "nbformat": 4,
 "nbformat_minor": 0
}
