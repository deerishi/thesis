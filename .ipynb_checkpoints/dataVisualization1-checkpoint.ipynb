{
 "cells": [
  {
   "cell_type": "code",
   "execution_count": 1,
   "metadata": {
    "collapsed": false
   },
   "outputs": [
    {
     "name": "stdout",
     "output_type": "stream",
     "text": [
      "Using matplotlib backend: Qt4Agg\n"
     ]
    }
   ],
   "source": [
    "import pandas as pd\n",
    "import numpy as np\n",
    "from sklearn.manifold import TSNE\n",
    "from sklearn.decomposition import PCA\n",
    "import re\n",
    "import matplotlib.pyplot as plt\n",
    "from mpl_toolkits.mplot3d import Axes3D\n",
    "%matplotlib auto"
   ]
  },
  {
   "cell_type": "code",
   "execution_count": 2,
   "metadata": {
    "collapsed": false
   },
   "outputs": [
    {
     "name": "stdout",
     "output_type": "stream",
     "text": [
      "the names of the columns are \n",
      "  ['login', 'id', 'commented_repo', 'num_followers', 'num_following', 'num_gists', 'num_starred', 'num_subscriptions', 'num_organizations', 'num_repos', 'num_events_done', 'num_received_events', 'body', 'CommitCommentEvent', 'CreateEvent', 'DeleteEvent', 'DeploymentEvent', 'DeploymentStatusEvent', 'DownloadEvent', 'FollowEvent', 'ForkEvent', 'ForkApplyEvent', 'GistEvent', 'GollumEvent', 'IssueCommentEvent', 'IssuesEvent', 'LabelEvent', 'MemberEvent', 'MembershipEvent', 'MilestoneEvent', 'PageBuildEvent', 'PublicEvent', 'PullRequestEvent', 'PullRequestReviewEvent', 'PullRequestReviewCommentEvent', 'PushEvent', 'ReleaseEvent', 'RepositoryEvent', 'StatusEvent', 'TeamAddEvent', 'WatchEvent']  \n",
      " len  41\n"
     ]
    }
   ],
   "source": [
    "d=pd.read_csv('myd2.csv')\n",
    "columns=list(d.columns.values)\n",
    "print 'the names of the columns are \\n ',columns, ' \\n len ',len(columns)\n",
    "d=d.sample(frac=1)\n",
    "\n",
    "comments=d['body']\n",
    "d=d.drop(['id','body'],axis=1)\n"
   ]
  },
  {
   "cell_type": "code",
   "execution_count": 3,
   "metadata": {
    "collapsed": false
   },
   "outputs": [
    {
     "name": "stdout",
     "output_type": "stream",
     "text": [
      "<type 'str'>\n",
      "the data is  (1000, 39)\n",
      "now the data is  39\n"
     ]
    }
   ],
   "source": [
    "pattern='[a-zA-Z0-9-_@#%^&():;\\'\\[\\]!~=+,.]*/pulls'\n",
    "\n",
    "data=np.array(d)\n",
    "print type(data[1,1])\n",
    "print 'the data is ',data.shape\n",
    "for i in range(data.shape[0]):\n",
    "    a=re.search(pattern,data[i,1])\n",
    "    #print 'line is ',data[i,1]\n",
    "   # print 'a is ',a\n",
    "    data[i,1]=a.group(0)[0:-6]\n",
    "    \n",
    "print 'now the data is ',len(data[0])\n"
   ]
  },
  {
   "cell_type": "code",
   "execution_count": 4,
   "metadata": {
    "collapsed": false
   },
   "outputs": [
    {
     "name": "stdout",
     "output_type": "stream",
     "text": [
      "dataForPca is  (1000, 37)\n",
      "done 2d tsne\n"
     ]
    }
   ],
   "source": [
    "dataForPca=data[:,2:39]\n",
    "users=data[:,0]\n",
    "repos=data[:,1]\n",
    "print 'dataForPca is ',dataForPca.shape\n",
    "randomState=13204\n",
    "projectedDigits = TSNE(random_state=randomState).fit_transform(dataForPca)\n",
    "\n",
    "print 'done 2d tsne'\n",
    "\n"
   ]
  },
  {
   "cell_type": "code",
   "execution_count": 21,
   "metadata": {
    "collapsed": false
   },
   "outputs": [
    {
     "name": "stdout",
     "output_type": "stream",
     "text": [
      "dataForPca is  (1000, 37)\n",
      "done 3d tsne\n"
     ]
    }
   ],
   "source": [
    "dataForPca=data[:,2:39]\n",
    "users=data[:,0]\n",
    "repos=data[:,1]\n",
    "print 'dataForPca is ',dataForPca.shape\n",
    "randomState=13204\n",
    "projectedDigits3d = TSNE(n_components=3,random_state=randomState).fit_transform(dataForPca)\n",
    "\n",
    "print 'done 3d tsne'\n",
    "\n"
   ]
  },
  {
   "cell_type": "code",
   "execution_count": 22,
   "metadata": {
    "collapsed": false
   },
   "outputs": [],
   "source": [
    "#this code transforms the \n",
    "fig=plt.figure()\n",
    "ax=plt.subplot(111)\n",
    "plt.plot(projectedDigits[:,0],projectedDigits[:,1],'*')\n",
    "i=0\n",
    "\n",
    "for (x,y) in projectedDigits:\n",
    "    #print x,y\n",
    "    ax.annotate(repos[i],xy=(x,y))\n",
    "    i+=1\n",
    "plt.title('Different users (grouped by repos) projected into 2D by t-SNE')\n",
    "plt.savefig('Different users (grouped by repos) projected into 2D by t-SNE')\n",
    "plt.show()"
   ]
  },
  {
   "cell_type": "code",
   "execution_count": 23,
   "metadata": {
    "collapsed": false
   },
   "outputs": [],
   "source": [
    "#this code transforms the \n",
    "fig=plt.figure()\n",
    "ax=fig.gca(projection='3d')\n",
    "ax.scatter(projectedDigits[:,0],projectedDigits[:,1],projectedDigits3d[:,2])\n",
    "i=0\n",
    "\n",
    "for (x,y,z) in projectedDigits3d:\n",
    "    #print x,y,z\n",
    "    ax.text(x,y,z,repos[i],size='7')\n",
    "    i+=1\n",
    "plt.title('Different users (grouped by repos) projected into 3D by t-SNE')\n",
    "plt.savefig('Different users (grouped by repos) projected into 3D by t-SNE')\n",
    "plt.show()"
   ]
  },
  {
   "cell_type": "code",
   "execution_count": 24,
   "metadata": {
    "collapsed": false
   },
   "outputs": [],
   "source": [
    "fig=plt.figure()\n",
    "ax=plt.subplot(111)\n",
    "ax.plot(projectedDigits[:,0],projectedDigits[:,1],'*')\n",
    "i=0\n",
    "for (x,y) in projectedDigits:\n",
    "    #print x,y\n",
    "    ax.annotate(users[i],xy=(x,y))\n",
    "    i+=1\n",
    "plt.title('Different Users(names) projected into 2D by t-SNE')\n",
    "plt.savefig('Different Users(names) projected into 2D by t-SNE')\n",
    "plt.show()"
   ]
  },
  {
   "cell_type": "code",
   "execution_count": 25,
   "metadata": {
    "collapsed": false
   },
   "outputs": [
    {
     "name": "stdout",
     "output_type": "stream",
     "text": [
      "done 2d and 3d pca\n"
     ]
    }
   ],
   "source": [
    "\n",
    "projectedPca2d=PCA(n_components=2).fit_transform(dataForPca)\n",
    "projectedPca3d=PCA(n_components=3).fit_transform(dataForPca)\n",
    "\n",
    "print 'done 2d and 3d pca'\n"
   ]
  },
  {
   "cell_type": "code",
   "execution_count": 26,
   "metadata": {
    "collapsed": true
   },
   "outputs": [],
   "source": [
    "fig=plt.figure()\n",
    "ax=plt.subplot(111)\n",
    "ax.plot(projectedPca2d[:,0],projectedPca2d[:,1],'*')\n",
    "i=0\n",
    "for (x,y) in projectedPca2d:\n",
    "    #print x,y\n",
    "    ax.annotate(users[i],xy=(x,y))\n",
    "    i+=1\n",
    "plt.title('Different Users(names) projected into 2D by PCA')\n",
    "plt.savefig('Different Users(names) projected into 2D by PCA')\n",
    "plt.show()"
   ]
  },
  {
   "cell_type": "code",
   "execution_count": 27,
   "metadata": {
    "collapsed": true
   },
   "outputs": [],
   "source": [
    "fig=plt.figure()\n",
    "ax=plt.subplot(111)\n",
    "ax.plot(projectedPca2d[:,0],projectedPca2d[:,1],'*')\n",
    "i=0\n",
    "for (x,y) in projectedPca2d:\n",
    "    #print x,y\n",
    "    ax.annotate(repos[i],xy=(x,y))\n",
    "    i+=1\n",
    "plt.title('Different Users(grouped by repositories) projected into 2D by PCA')\n",
    "plt.savefig('Different Users(grouped by repositories) projected into 2D by PCA')\n",
    "plt.show()"
   ]
  },
  {
   "cell_type": "code",
   "execution_count": 28,
   "metadata": {
    "collapsed": true
   },
   "outputs": [],
   "source": [
    "#this code transforms the \n",
    "fig=plt.figure()\n",
    "ax=fig.gca(projection='3d')\n",
    "ax.scatter(projectedPca3d[:,0],projectedPca3d[:,1],projectedPca3d[:,2])\n",
    "i=0\n",
    "\n",
    "for (x,y,z) in projectedPca3d:\n",
    "    #print x,y,z\n",
    "    ax.text(x,y,z,repos[i],size='7')\n",
    "    i+=1\n",
    "plt.title('Different users (grouped by repositories) projected into 3D by PCA')\n",
    "plt.savefig('Different users (grouped by repositories) projected into 3D by PCA')\n",
    "plt.show()"
   ]
  },
  {
   "cell_type": "code",
   "execution_count": 29,
   "metadata": {
    "collapsed": true
   },
   "outputs": [],
   "source": [
    "#this code transforms the \n",
    "fig=plt.figure()\n",
    "ax=fig.gca(projection='3d')\n",
    "ax.scatter(projectedPca3d[:,0],projectedPca3d[:,1],projectedPca3d[:,2])\n",
    "i=0\n",
    "\n",
    "for (x,y,z) in projectedPca3d:\n",
    "    #print x,y,z\n",
    "    ax.text(x,y,z,users[i],size='7')\n",
    "    i+=1\n",
    "plt.title('Different users(name) projected into 3D by PCA')\n",
    "plt.savefig('Different users(name) projected into 3D by PCA')\n",
    "plt.show()"
   ]
  },
  {
   "cell_type": "code",
   "execution_count": 30,
   "metadata": {
    "collapsed": true
   },
   "outputs": [],
   "source": [
    "fig=plt.figure()\n",
    "ax=fig.gca(projection='3d')\n",
    "ax.scatter(projectedPca3d[:,0],projectedPca3d[:,1],projectedPca3d[:,2])\n",
    "i=0\n",
    "\n",
    "for (x,y,z) in projectedPca3d:\n",
    "    #print x,y,z\n",
    "    ax.text(x,y,z,users[i],size='7')\n",
    "    i+=1\n",
    "plt.title('Different users(name) projected into 3D by PCA')\n",
    "plt.savefig('Different users(name) projected into 3D by PCA')\n",
    "plt.show()"
   ]
  },
  {
   "cell_type": "code",
   "execution_count": 32,
   "metadata": {
    "collapsed": false
   },
   "outputs": [
    {
     "name": "stdout",
     "output_type": "stream",
     "text": [
      "dataForPca is \n",
      "(1000, 37)\n",
      "eigs 1 is  (37,)\n"
     ]
    },
    {
     "ename": "ValueError",
     "evalue": "incompatible sizes: argument 'height' must be length 38 or scalar",
     "output_type": "error",
     "traceback": [
      "\u001b[0;31m---------------------------------------------------------------------------\u001b[0m",
      "\u001b[0;31mValueError\u001b[0m                                Traceback (most recent call last)",
      "\u001b[0;32m<ipython-input-32-95353fa290f4>\u001b[0m in \u001b[0;36m<module>\u001b[0;34m()\u001b[0m\n\u001b[1;32m     17\u001b[0m \u001b[0;32mprint\u001b[0m \u001b[0;34m'eigs 1 is '\u001b[0m\u001b[0;34m,\u001b[0m\u001b[0meigs1\u001b[0m\u001b[0;34m.\u001b[0m\u001b[0mshape\u001b[0m\u001b[0;34m\u001b[0m\u001b[0m\n\u001b[1;32m     18\u001b[0m \u001b[0mplt\u001b[0m\u001b[0;34m.\u001b[0m\u001b[0mfigure\u001b[0m\u001b[0;34m(\u001b[0m\u001b[0;34m)\u001b[0m\u001b[0;34m\u001b[0m\u001b[0m\n\u001b[0;32m---> 19\u001b[0;31m \u001b[0mplt\u001b[0m\u001b[0;34m.\u001b[0m\u001b[0mbar\u001b[0m\u001b[0;34m(\u001b[0m\u001b[0mrange\u001b[0m\u001b[0;34m(\u001b[0m\u001b[0;36m38\u001b[0m\u001b[0;34m)\u001b[0m\u001b[0;34m,\u001b[0m\u001b[0meigs1\u001b[0m\u001b[0;34m/\u001b[0m\u001b[0mnp\u001b[0m\u001b[0;34m.\u001b[0m\u001b[0msum\u001b[0m\u001b[0;34m(\u001b[0m\u001b[0meigs1\u001b[0m\u001b[0;34m)\u001b[0m\u001b[0;34m)\u001b[0m\u001b[0;34m\u001b[0m\u001b[0m\n\u001b[0m\u001b[1;32m     20\u001b[0m \u001b[0mplt\u001b[0m\u001b[0;34m.\u001b[0m\u001b[0mtitle\u001b[0m\u001b[0;34m(\u001b[0m\u001b[0;34m'Relative Variances Explained by each feature ( by Singular Value Decomposition)'\u001b[0m\u001b[0;34m)\u001b[0m\u001b[0;34m\u001b[0m\u001b[0m\n\u001b[1;32m     21\u001b[0m \u001b[0mplt\u001b[0m\u001b[0;34m.\u001b[0m\u001b[0mxticks\u001b[0m\u001b[0;34m(\u001b[0m\u001b[0mrange\u001b[0m\u001b[0;34m(\u001b[0m\u001b[0;36m38\u001b[0m\u001b[0;34m)\u001b[0m\u001b[0;34m,\u001b[0m\u001b[0mcolumns\u001b[0m\u001b[0;34m[\u001b[0m\u001b[0;36m3\u001b[0m\u001b[0;34m:\u001b[0m\u001b[0;36m39\u001b[0m\u001b[0;34m]\u001b[0m\u001b[0;34m,\u001b[0m\u001b[0mrotation\u001b[0m\u001b[0;34m=\u001b[0m\u001b[0;34m'vertical'\u001b[0m\u001b[0;34m)\u001b[0m\u001b[0;34m\u001b[0m\u001b[0m\n",
      "\u001b[0;32m/usr/local/lib/python2.7/dist-packages/matplotlib/pyplot.pyc\u001b[0m in \u001b[0;36mbar\u001b[0;34m(left, height, width, bottom, hold, data, **kwargs)\u001b[0m\n\u001b[1;32m   2641\u001b[0m     \u001b[0;32mtry\u001b[0m\u001b[0;34m:\u001b[0m\u001b[0;34m\u001b[0m\u001b[0m\n\u001b[1;32m   2642\u001b[0m         ret = ax.bar(left, height, width=width, bottom=bottom, data=data,\n\u001b[0;32m-> 2643\u001b[0;31m                      **kwargs)\n\u001b[0m\u001b[1;32m   2644\u001b[0m     \u001b[0;32mfinally\u001b[0m\u001b[0;34m:\u001b[0m\u001b[0;34m\u001b[0m\u001b[0m\n\u001b[1;32m   2645\u001b[0m         \u001b[0max\u001b[0m\u001b[0;34m.\u001b[0m\u001b[0mhold\u001b[0m\u001b[0;34m(\u001b[0m\u001b[0mwashold\u001b[0m\u001b[0;34m)\u001b[0m\u001b[0;34m\u001b[0m\u001b[0m\n",
      "\u001b[0;32m/usr/local/lib/python2.7/dist-packages/matplotlib/__init__.pyc\u001b[0m in \u001b[0;36minner\u001b[0;34m(ax, *args, **kwargs)\u001b[0m\n\u001b[1;32m   1809\u001b[0m                     warnings.warn(msg % (label_namer, func.__name__),\n\u001b[1;32m   1810\u001b[0m                                   RuntimeWarning, stacklevel=2)\n\u001b[0;32m-> 1811\u001b[0;31m             \u001b[0;32mreturn\u001b[0m \u001b[0mfunc\u001b[0m\u001b[0;34m(\u001b[0m\u001b[0max\u001b[0m\u001b[0;34m,\u001b[0m \u001b[0;34m*\u001b[0m\u001b[0margs\u001b[0m\u001b[0;34m,\u001b[0m \u001b[0;34m**\u001b[0m\u001b[0mkwargs\u001b[0m\u001b[0;34m)\u001b[0m\u001b[0;34m\u001b[0m\u001b[0m\n\u001b[0m\u001b[1;32m   1812\u001b[0m         \u001b[0mpre_doc\u001b[0m \u001b[0;34m=\u001b[0m \u001b[0minner\u001b[0m\u001b[0;34m.\u001b[0m\u001b[0m__doc__\u001b[0m\u001b[0;34m\u001b[0m\u001b[0m\n\u001b[1;32m   1813\u001b[0m         \u001b[0;32mif\u001b[0m \u001b[0mpre_doc\u001b[0m \u001b[0;32mis\u001b[0m \u001b[0mNone\u001b[0m\u001b[0;34m:\u001b[0m\u001b[0;34m\u001b[0m\u001b[0m\n",
      "\u001b[0;32m/usr/local/lib/python2.7/dist-packages/matplotlib/axes/_axes.pyc\u001b[0m in \u001b[0;36mbar\u001b[0;34m(self, left, height, width, bottom, **kwargs)\u001b[0m\n\u001b[1;32m   2081\u001b[0m         \u001b[0;32mif\u001b[0m \u001b[0mlen\u001b[0m\u001b[0;34m(\u001b[0m\u001b[0mheight\u001b[0m\u001b[0;34m)\u001b[0m \u001b[0;34m!=\u001b[0m \u001b[0mnbars\u001b[0m\u001b[0;34m:\u001b[0m\u001b[0;34m\u001b[0m\u001b[0m\n\u001b[1;32m   2082\u001b[0m             raise ValueError(\"incompatible sizes: argument 'height' \"\n\u001b[0;32m-> 2083\u001b[0;31m                               \"must be length %d or scalar\" % nbars)\n\u001b[0m\u001b[1;32m   2084\u001b[0m         \u001b[0;32mif\u001b[0m \u001b[0mlen\u001b[0m\u001b[0;34m(\u001b[0m\u001b[0mwidth\u001b[0m\u001b[0;34m)\u001b[0m \u001b[0;34m!=\u001b[0m \u001b[0mnbars\u001b[0m\u001b[0;34m:\u001b[0m\u001b[0;34m\u001b[0m\u001b[0m\n\u001b[1;32m   2085\u001b[0m             raise ValueError(\"incompatible sizes: argument 'width' \"\n",
      "\u001b[0;31mValueError\u001b[0m: incompatible sizes: argument 'height' must be length 38 or scalar"
     ]
    }
   ],
   "source": [
    "#This code computes the principle components for the data X\n",
    "def  normalize(data):\n",
    "    means=np.mean(data,axis=0)\n",
    "    #stds=np.std(data,axis=0)\n",
    "    for i in range(data.shape[0]):\n",
    "        data[i]=data[i]-means\n",
    "        #data[i]=data[i]/stds\n",
    "    return data\n",
    "\n",
    "print 'dataForPca is \\n',dataForPca.shape\n",
    "centeredData=normalize(dataForPca)\n",
    "#print 'centered data is ',centeredData\n",
    "cov1=np.cov(centeredData.T)\n",
    "\n",
    "cov1=np.asarray(cov1,dtype=np.float32)\n",
    "eigs1=np.linalg.eigvals(cov1)\n",
    "print 'eigs 1 is ',eigs1.shape\n",
    "plt.figure()\n",
    "plt.bar(range(37),eigs1/np.sum(eigs1))\n",
    "plt.title('Relative Variances Explained by each feature ( by Singular Value Decomposition)')\n",
    "plt.xticks(range(37),columns[3:39],rotation='vertical')\n",
    "plt.savefig('Relative Variances Explained by each feature ( by Singular Value Decomposition)')\n",
    "plt.show()\n",
    "print 'the relative variances shown by each feature indiviually is \\n',eigs1/np.sum(eigs1) *100 "
   ]
  },
  {
   "cell_type": "code",
   "execution_count": null,
   "metadata": {
    "collapsed": false
   },
   "outputs": [],
   "source": [
    "pattern='[a-zA-Z0-9-_@#%^&():;\\'\\[\\]!~=+,.]*/pulls'\n",
    "s1='https://api.github.com/repos/tensorflow/shog;un-t_oolbox/pulls/comments?access_token=6fca6b10547db86c496e728cde80b715f7e4099a&per_page=300'\n",
    "a=re.search(pattern,s1)\n",
    "print a.group(0)[0:-6]"
   ]
  }
 ],
 "metadata": {
  "kernelspec": {
   "display_name": "Python 2",
   "language": "python",
   "name": "python2"
  },
  "language_info": {
   "codemirror_mode": {
    "name": "ipython",
    "version": 2
   },
   "file_extension": ".py",
   "mimetype": "text/x-python",
   "name": "python",
   "nbconvert_exporter": "python",
   "pygments_lexer": "ipython2",
   "version": "2.7.6"
  }
 },
 "nbformat": 4,
 "nbformat_minor": 1
}
