{
 "cells": [
  {
   "cell_type": "code",
   "execution_count": 95,
   "metadata": {
    "collapsed": false
   },
   "outputs": [
    {
     "name": "stdout",
     "output_type": "stream",
     "text": [
      "Using matplotlib backend: Qt4Agg\n"
     ]
    }
   ],
   "source": [
    "import pandas as pd\n",
    "import numpy as np\n",
    "from sklearn.manifold import TSNE\n",
    "from sklearn.decomposition import PCA\n",
    "import re\n",
    "import matplotlib.pyplot as plt\n",
    "from mpl_toolkits.mplot3d import Axes3D\n",
    "%matplotlib auto"
   ]
  },
  {
   "cell_type": "code",
   "execution_count": 154,
   "metadata": {
    "collapsed": false
   },
   "outputs": [
    {
     "name": "stdout",
     "output_type": "stream",
     "text": [
      "the names of the columns are \n",
      "  ['login', 'id', 'commented_repo', 'followers_url', 'following_url', 'num_followers', 'num_following', 'num_gists', 'num_starred', 'num_subscriptions', 'num_organizations', 'num_repos', 'num_events_done', 'num_received_events', 'body']\n",
      "d is \n",
      "https://api.github.com/repos/tensorflow/tensorflow/pulls/comments?access_token=6fca6b10547db86c496e728cde80b715f7e4099a&per_page=300\n"
     ]
    }
   ],
   "source": [
    "d=pd.read_csv('data1.csv')\n",
    "columns=list(d.columns.values)\n",
    "print 'the names of the columns are \\n ',columns\n",
    "d=d.sample(frac=1)\n",
    "d=d.drop(['id','followers_url','following_url'],axis=1)\n",
    "print 'd is \\n',d['commented_repo'][0]\n"
   ]
  },
  {
   "cell_type": "code",
   "execution_count": 139,
   "metadata": {
    "collapsed": false
   },
   "outputs": [
    {
     "name": "stdout",
     "output_type": "stream",
     "text": [
      "<type 'str'>\n",
      "the data is  (747, 12)\n",
      "now the data is  ['lambday' 'shogun' 11 7 73 27 31 1 26 13 300\n",
      " \"Added.. Please check. #NEWCOMMENT# Added.. Please check. #NEWCOMMENT# @vigsterkr okay I am changing... but this is the source of the error? #NEWCOMMENT# @karlnapf okay... I'll change it #NEWCOMMENT# @sonney2k oh I thought that was not needed when we use SGVector based one.. adding.. #NEWCOMMENT# @sonney2k @karlnapf then replacing the SGVectors with non SG ones would be a safer idea? #NEWCOMMENT# @karlnapf based on the discussion with @sonney2k at irc I currently changed it back to the old one for now. I will work on handling it a cleaner way as he suggested and clean up these when that's done! #NEWCOMMENT# @karlnapf I initially thought of pushing the duplicated part into the base TestStatistic, unless there are other possible implementations of this base for which it would absolutely make no sense! What do you think? #NEWCOMMENT# @karlnapf I wasn't sure. Did the pretty function thing work? #NEWCOMMENT# don't worry I will clean these up :) #NEWCOMMENT# argh! it was meant to be num_permutation_iteration.. but I like the num_null_samples more, specially since for linear mmd we don't permute things. #NEWCOMMENT# @karlnapf yeah you're right - we don't need to store this.. just kept this for convenience - since for HSIC we need equal number of samples and all... removing it altogether would be better for future change I suppose! #NEWCOMMENT# @karlnapf @vigsterkr ah I should have removed these. fixed in #1960. #NEWCOMMENT# @karlnapf should we use this default for only linear time MMD? for B-test, things would be different I suppose. #NEWCOMMENT# @karlnapf umm.. no. I think I should just put a warning here (and for the set_p_and_q) and return NULL (or do nothing for the other) instead of error. I just copied it from LinearTimeMMD :D #NEWCOMMENT# I think the default should be probing sampler - so you could add a HAVE_COLPACK check on this constructor :) or may be around this line, in absence of which you initialize things with normal sampler.\\r\\nif possible, please add an info message regarding the default setting it uses, could be useful.\\r\\n\\r\\noh and normal sampler doesn't take these set of args :) #NEWCOMMENT# could you please document the parameters for doxygen and take care of whitespaces properly? :) #NEWCOMMENT# err.. COLPACK :P #NEWCOMMENT# SG_REF has to be done for both the cases. I would put it after the endif. #NEWCOMMENT# you can use the get_name() methods of the classes to avoid writing it twice :)\"]\n"
     ]
    }
   ],
   "source": [
    "pattern='[a-zA-Z0-9-_@#%^&():;\\'\\[\\]!~=+,.]*/pulls'\n",
    "\n",
    "data=np.array(d)\n",
    "print type(data[1,1])\n",
    "print 'the data is ',data.shape\n",
    "for i in range(data.shape[0]):\n",
    "    a=re.search(pattern,data[i,1])\n",
    "    #print 'line is ',data[i,1]\n",
    "   # print 'a is ',a\n",
    "    data[i,1]=a.group(0)[0:-6]\n",
    "    \n",
    "print 'now the data is ',data[0]\n"
   ]
  },
  {
   "cell_type": "code",
   "execution_count": 140,
   "metadata": {
    "collapsed": false
   },
   "outputs": [
    {
     "name": "stdout",
     "output_type": "stream",
     "text": [
      "dataForPca is  (747, 8)\n",
      "done\n"
     ]
    }
   ],
   "source": [
    "dataForPca=data[:,2:10]\n",
    "users=data[:,0]\n",
    "repos=data[:,1]\n",
    "print 'dataForPca is ',dataForPca.shape\n",
    "randomState=13204\n",
    "projectedDigits = TSNE(random_state=randomState).fit_transform(dataForPca)\n",
    "\n",
    "print 'done'\n",
    "\n"
   ]
  },
  {
   "cell_type": "code",
   "execution_count": 141,
   "metadata": {
    "collapsed": false
   },
   "outputs": [
    {
     "name": "stdout",
     "output_type": "stream",
     "text": [
      "dataForPca is  (747, 8)\n",
      "done\n"
     ]
    }
   ],
   "source": [
    "dataForPca=data[:,2:10]\n",
    "users=data[:,0]\n",
    "repos=data[:,1]\n",
    "print 'dataForPca is ',dataForPca.shape\n",
    "randomState=13204\n",
    "projectedDigits3d = TSNE(n_components=3,random_state=randomState).fit_transform(dataForPca)\n",
    "\n",
    "print 'done 3d tsne'\n",
    "\n"
   ]
  },
  {
   "cell_type": "code",
   "execution_count": 142,
   "metadata": {
    "collapsed": false
   },
   "outputs": [],
   "source": [
    "#this code transforms the \n",
    "fig=plt.figure()\n",
    "ax=plt.subplot(111)\n",
    "plt.plot(projectedDigits[:,0],projectedDigits[:,1],'*')\n",
    "i=0\n",
    "for (x,y) in projectedDigits:\n",
    "    #print x,y\n",
    "    ax.annotate(repos[i],xy=(x,y))\n",
    "    i+=1\n",
    "plt.title('Different users (grouped by repos) projected into 2D by t-SNE')\n",
    "plt.show()"
   ]
  },
  {
   "cell_type": "code",
   "execution_count": 147,
   "metadata": {
    "collapsed": false
   },
   "outputs": [],
   "source": [
    "#this code transforms the \n",
    "fig=plt.figure()\n",
    "ax=fig.gca(projection='3d')\n",
    "ax.scatter(projectedDigits[:,0],projectedDigits[:,1],projectedDigits3d[:,2])\n",
    "i=0\n",
    "\n",
    "for (x,y,z) in projectedDigits3d:\n",
    "    #print x,y,z\n",
    "    ax.text(x,y,z,repos[i],size='7')\n",
    "    i+=1\n",
    "plt.title('Different users (grouped by repos) projected into 3D by t-SNE')\n",
    "plt.show()"
   ]
  },
  {
   "cell_type": "code",
   "execution_count": 148,
   "metadata": {
    "collapsed": false
   },
   "outputs": [],
   "source": [
    "fig=plt.figure()\n",
    "ax=plt.subplot(111)\n",
    "ax.plot(projectedDigits[:,0],projectedDigits[:,1],'*')\n",
    "i=0\n",
    "for (x,y) in projectedDigits:\n",
    "    #print x,y\n",
    "    ax.annotate(users[i],xy=(x,y))\n",
    "    i+=1\n",
    "plt.title('Different Users(names) projected into 2D by t-SNE')\n",
    "plt.show()"
   ]
  },
  {
   "cell_type": "code",
   "execution_count": 149,
   "metadata": {
    "collapsed": false
   },
   "outputs": [
    {
     "name": "stdout",
     "output_type": "stream",
     "text": [
      "done 2d and 3d pca\n"
     ]
    }
   ],
   "source": [
    "\n",
    "projectedPca2d=PCA(n_components=2).fit_transform(dataForPca)\n",
    "projectedPca3d=PCA(n_components=3).fit_transform(dataForPca)\n",
    "\n",
    "print 'done 2d and 3d pca'\n"
   ]
  },
  {
   "cell_type": "code",
   "execution_count": 150,
   "metadata": {
    "collapsed": true
   },
   "outputs": [],
   "source": [
    "fig=plt.figure()\n",
    "ax=plt.subplot(111)\n",
    "ax.plot(projectedPca2d[:,0],projectedPca2d[:,1],'*')\n",
    "i=0\n",
    "for (x,y) in projectedPca2d:\n",
    "    #print x,y\n",
    "    ax.annotate(users[i],xy=(x,y))\n",
    "    i+=1\n",
    "plt.title('Different Users(names) projected into 2D by PCA')\n",
    "plt.show()"
   ]
  },
  {
   "cell_type": "code",
   "execution_count": 151,
   "metadata": {
    "collapsed": true
   },
   "outputs": [],
   "source": [
    "fig=plt.figure()\n",
    "ax=plt.subplot(111)\n",
    "ax.plot(projectedPca2d[:,0],projectedPca2d[:,1],'*')\n",
    "i=0\n",
    "for (x,y) in projectedPca2d:\n",
    "    #print x,y\n",
    "    ax.annotate(repos[i],xy=(x,y))\n",
    "    i+=1\n",
    "plt.title('Different Users(grouped by repositories) projected into 2D by PCA')\n",
    "plt.show()"
   ]
  },
  {
   "cell_type": "code",
   "execution_count": 152,
   "metadata": {
    "collapsed": true
   },
   "outputs": [],
   "source": [
    "#this code transforms the \n",
    "fig=plt.figure()\n",
    "ax=fig.gca(projection='3d')\n",
    "ax.scatter(projectedPca3d[:,0],projectedPca3d[:,1],projectedPca3d[:,2])\n",
    "i=0\n",
    "\n",
    "for (x,y,z) in projectedPca3d:\n",
    "    #print x,y,z\n",
    "    ax.text(x,y,z,repos[i],size='7')\n",
    "    i+=1\n",
    "plt.title('Different users (grouped by repositories) projected into 3D by PCA')\n",
    "plt.show()"
   ]
  },
  {
   "cell_type": "code",
   "execution_count": 153,
   "metadata": {
    "collapsed": true
   },
   "outputs": [],
   "source": [
    "#this code transforms the \n",
    "fig=plt.figure()\n",
    "ax=fig.gca(projection='3d')\n",
    "ax.scatter(projectedPca3d[:,0],projectedPca3d[:,1],projectedPca3d[:,2])\n",
    "i=0\n",
    "\n",
    "for (x,y,z) in projectedPca3d:\n",
    "    #print x,y,z\n",
    "    ax.text(x,y,z,users[i],size='7')\n",
    "    i+=1\n",
    "plt.title('Different users(name) projected into 3D by PCA')\n",
    "plt.show()"
   ]
  },
  {
   "cell_type": "code",
   "execution_count": null,
   "metadata": {
    "collapsed": true
   },
   "outputs": [],
   "source": [
    "fig=plt.figure()\n",
    "ax=fig.gca(projection='3d')\n",
    "ax.scatter(projectedPca3d[:,0],projectedPca3d[:,1],projectedPca3d[:,2])\n",
    "i=0\n",
    "\n",
    "for (x,y,z) in projectedPca3d:\n",
    "    #print x,y,z\n",
    "    ax.text(x,y,z,users[i],size='7')\n",
    "    i+=1\n",
    "plt.title('Different users(name) projected into 3D by PCA')\n",
    "plt.show()"
   ]
  },
  {
   "cell_type": "code",
   "execution_count": 190,
   "metadata": {
    "collapsed": false
   },
   "outputs": [
    {
     "name": "stdout",
     "output_type": "stream",
     "text": [
      "the relative variances shown by each feature indiviually is \n",
      "[  9.50391388e+01   2.88723898e+00   9.79641199e-01   5.76560557e-01\n",
      "   4.15829718e-01   6.55704886e-02   3.58634032e-02   1.49736501e-04]\n"
     ]
    }
   ],
   "source": [
    "#This code computes the principle components for the data X\n",
    "def  normalize(data):\n",
    "    means=np.mean(data,axis=0)\n",
    "    stds=np.std(data,axis=0)\n",
    "    for i in range(data.shape[0]):\n",
    "        data[i]=data[i]-means\n",
    "        data[i]=data[i]/stds\n",
    "    return data\n",
    "centeredData=centerData(dataForPca)\n",
    "#print 'centered data is ',centeredData\n",
    "cov1=np.cov(centeredData.T)\n",
    "\n",
    "cov1=np.asarray(cov1,dtype=np.float32)\n",
    "eigs1=np.linalg.eigvals(cov1)\n",
    "\n",
    "plt.bar(range(8),eigs1/np.sum(eigs1))\n",
    "plt.title('Relative Variances Explained by each feature ( by Singular Value Decomposition)')\n",
    "plt.xticks(range(8),columns[5:13])\n",
    "plt.show()\n",
    "print 'the relative variances shown by each feature indiviually is \\n',eigs1/np.sum(eigs1) *100 "
   ]
  },
  {
   "cell_type": "code",
   "execution_count": 138,
   "metadata": {
    "collapsed": false
   },
   "outputs": [
    {
     "name": "stdout",
     "output_type": "stream",
     "text": [
      "shog;un-t_oolbox\n"
     ]
    }
   ],
   "source": [
    "pattern='[a-zA-Z0-9-_@#%^&():;\\'\\[\\]!~=+,.]*/pulls'\n",
    "s1='https://api.github.com/repos/tensorflow/shog;un-t_oolbox/pulls/comments?access_token=6fca6b10547db86c496e728cde80b715f7e4099a&per_page=300'\n",
    "a=re.search(pattern,s1)\n",
    "print a.group(0)[0:-6]"
   ]
  }
 ],
 "metadata": {
  "kernelspec": {
   "display_name": "Python 2",
   "language": "python",
   "name": "python2"
  }
 },
 "nbformat": 4,
 "nbformat_minor": 1
}
