{
 "cells": [
  {
   "cell_type": "code",
   "execution_count": 1,
   "metadata": {
    "collapsed": false
   },
   "outputs": [
    {
     "name": "stdout",
     "output_type": "stream",
     "text": [
      "Using matplotlib backend: Qt4Agg\n"
     ]
    }
   ],
   "source": [
    "import pandas as pd\n",
    "import numpy as np\n",
    "from sklearn.manifold import TSNE\n",
    "from sklearn.decomposition import PCA\n",
    "import re\n",
    "import matplotlib.pyplot as plt\n",
    "from mpl_toolkits.mplot3d import Axes3D\n",
    "%matplotlib auto"
   ]
  },
  {
   "cell_type": "code",
   "execution_count": 2,
   "metadata": {
    "collapsed": false
   },
   "outputs": [
    {
     "name": "stdout",
     "output_type": "stream",
     "text": [
      "the names of the columns are \n",
      "  ['login', 'id', 'commented_repo', 'num_followers', 'num_following', 'num_gists', 'num_starred', 'num_subscriptions', 'num_organizations', 'num_repos', 'num_events_done', 'num_received_events', 'body', 'CommitCommentEvent', 'CreateEvent', 'DeleteEvent', 'DeploymentEvent', 'DeploymentStatusEvent', 'DownloadEvent', 'FollowEvent', 'ForkEvent', 'ForkApplyEvent', 'GistEvent', 'GollumEvent', 'IssueCommentEvent', 'IssuesEvent', 'LabelEvent', 'MemberEvent', 'MembershipEvent', 'MilestoneEvent', 'PageBuildEvent', 'PublicEvent', 'PullRequestEvent', 'PullRequestReviewEvent', 'PullRequestReviewCommentEvent', 'PushEvent', 'ReleaseEvent', 'RepositoryEvent', 'StatusEvent', 'TeamAddEvent', 'WatchEvent']  \n",
      " len  41\n"
     ]
    }
   ],
   "source": [
    "d=pd.read_csv('myd2.csv')\n",
    "columns=list(d.columns.values)\n",
    "print 'the names of the columns are \\n ',columns, ' \\n len ',len(columns)\n",
    "d=d.sample(frac=1)\n",
    "\n",
    "comments=d['body']\n",
    "d=d.drop(['id','body'],axis=1)\n"
   ]
  },
  {
   "cell_type": "code",
   "execution_count": 3,
   "metadata": {
    "collapsed": false
   },
   "outputs": [
    {
     "name": "stdout",
     "output_type": "stream",
     "text": [
      "<type 'str'>\n",
      "the data is  (1000, 39)\n",
      "now the data is  39\n"
     ]
    }
   ],
   "source": [
    "pattern='[a-zA-Z0-9-_@#%^&():;\\'\\[\\]!~=+,.]*/pulls'\n",
    "\n",
    "data=np.array(d)\n",
    "print type(data[1,1])\n",
    "print 'the data is ',data.shape\n",
    "for i in range(data.shape[0]):\n",
    "    a=re.search(pattern,data[i,1])\n",
    "    #print 'line is ',data[i,1]\n",
    "   # print 'a is ',a\n",
    "    data[i,1]=a.group(0)[0:-6]\n",
    "    \n",
    "print 'now the data is ',len(data[0])\n"
   ]
  },
  {
   "cell_type": "code",
   "execution_count": 4,
   "metadata": {
    "collapsed": false
   },
   "outputs": [
    {
     "name": "stdout",
     "output_type": "stream",
     "text": [
      "dataForPca is  (1000, 37)\n",
      "done 2d tsne\n"
     ]
    }
   ],
   "source": [
    "dataForPca=data[:,2:39]\n",
    "users=data[:,0]\n",
    "repos=data[:,1]\n",
    "print 'dataForPca is ',dataForPca.shape\n",
    "randomState=13204\n",
    "projectedDigits = TSNE(random_state=randomState).fit_transform(dataForPca)\n",
    "\n",
    "print 'done 2d tsne'\n",
    "\n"
   ]
  },
  {
   "cell_type": "code",
   "execution_count": 21,
   "metadata": {
    "collapsed": false
   },
   "outputs": [
    {
     "name": "stdout",
     "output_type": "stream",
     "text": [
      "dataForPca is  (1000, 37)\n",
      "done 3d tsne\n"
     ]
    }
   ],
   "source": [
    "dataForPca=data[:,2:39]\n",
    "users=data[:,0]\n",
    "repos=data[:,1]\n",
    "print 'dataForPca is ',dataForPca.shape\n",
    "randomState=13204\n",
    "projectedDigits3d = TSNE(n_components=3,random_state=randomState).fit_transform(dataForPca)\n",
    "\n",
    "print 'done 3d tsne'\n",
    "\n"
   ]
  },
  {
   "cell_type": "code",
   "execution_count": 22,
   "metadata": {
    "collapsed": false
   },
   "outputs": [],
   "source": [
    "#this code transforms the \n",
    "fig=plt.figure()\n",
    "ax=plt.subplot(111)\n",
    "plt.plot(projectedDigits[:,0],projectedDigits[:,1],'*')\n",
    "i=0\n",
    "\n",
    "for (x,y) in projectedDigits:\n",
    "    #print x,y\n",
    "    ax.annotate(repos[i],xy=(x,y))\n",
    "    i+=1\n",
    "plt.title('Different users (grouped by repos) projected into 2D by t-SNE')\n",
    "plt.savefig('Different users (grouped by repos) projected into 2D by t-SNE')\n",
    "plt.show()"
   ]
  },
  {
   "cell_type": "code",
   "execution_count": 23,
   "metadata": {
    "collapsed": false
   },
   "outputs": [],
   "source": [
    "#this code transforms the \n",
    "fig=plt.figure()\n",
    "ax=fig.gca(projection='3d')\n",
    "ax.scatter(projectedDigits[:,0],projectedDigits[:,1],projectedDigits3d[:,2])\n",
    "i=0\n",
    "\n",
    "for (x,y,z) in projectedDigits3d:\n",
    "    #print x,y,z\n",
    "    ax.text(x,y,z,repos[i],size='7')\n",
    "    i+=1\n",
    "plt.title('Different users (grouped by repos) projected into 3D by t-SNE')\n",
    "plt.savefig('Different users (grouped by repos) projected into 3D by t-SNE')\n",
    "plt.show()"
   ]
  },
  {
   "cell_type": "code",
   "execution_count": 24,
   "metadata": {
    "collapsed": false
   },
   "outputs": [],
   "source": [
    "fig=plt.figure()\n",
    "ax=plt.subplot(111)\n",
    "ax.plot(projectedDigits[:,0],projectedDigits[:,1],'*')\n",
    "i=0\n",
    "for (x,y) in projectedDigits:\n",
    "    #print x,y\n",
    "    ax.annotate(users[i],xy=(x,y))\n",
    "    i+=1\n",
    "plt.title('Different Users(names) projected into 2D by t-SNE')\n",
    "plt.savefig('Different Users(names) projected into 2D by t-SNE')\n",
    "plt.show()"
   ]
  },
  {
   "cell_type": "code",
   "execution_count": 25,
   "metadata": {
    "collapsed": false
   },
   "outputs": [
    {
     "name": "stdout",
     "output_type": "stream",
     "text": [
      "done 2d and 3d pca\n"
     ]
    }
   ],
   "source": [
    "\n",
    "projectedPca2d=PCA(n_components=2).fit_transform(dataForPca)\n",
    "projectedPca3d=PCA(n_components=3).fit_transform(dataForPca)\n",
    "\n",
    "print 'done 2d and 3d pca'\n"
   ]
  },
  {
   "cell_type": "code",
   "execution_count": 26,
   "metadata": {
    "collapsed": true
   },
   "outputs": [],
   "source": [
    "fig=plt.figure()\n",
    "ax=plt.subplot(111)\n",
    "ax.plot(projectedPca2d[:,0],projectedPca2d[:,1],'*')\n",
    "i=0\n",
    "for (x,y) in projectedPca2d:\n",
    "    #print x,y\n",
    "    ax.annotate(users[i],xy=(x,y))\n",
    "    i+=1\n",
    "plt.title('Different Users(names) projected into 2D by PCA')\n",
    "plt.savefig('Different Users(names) projected into 2D by PCA')\n",
    "plt.show()"
   ]
  },
  {
   "cell_type": "code",
   "execution_count": 27,
   "metadata": {
    "collapsed": true
   },
   "outputs": [],
   "source": [
    "fig=plt.figure()\n",
    "ax=plt.subplot(111)\n",
    "ax.plot(projectedPca2d[:,0],projectedPca2d[:,1],'*')\n",
    "i=0\n",
    "for (x,y) in projectedPca2d:\n",
    "    #print x,y\n",
    "    ax.annotate(repos[i],xy=(x,y))\n",
    "    i+=1\n",
    "plt.title('Different Users(grouped by repositories) projected into 2D by PCA')\n",
    "plt.savefig('Different Users(grouped by repositories) projected into 2D by PCA')\n",
    "plt.show()"
   ]
  },
  {
   "cell_type": "code",
   "execution_count": 28,
   "metadata": {
    "collapsed": true
   },
   "outputs": [],
   "source": [
    "#this code transforms the \n",
    "fig=plt.figure()\n",
    "ax=fig.gca(projection='3d')\n",
    "ax.scatter(projectedPca3d[:,0],projectedPca3d[:,1],projectedPca3d[:,2])\n",
    "i=0\n",
    "\n",
    "for (x,y,z) in projectedPca3d:\n",
    "    #print x,y,z\n",
    "    ax.text(x,y,z,repos[i],size='7')\n",
    "    i+=1\n",
    "plt.title('Different users (grouped by repositories) projected into 3D by PCA')\n",
    "plt.savefig('Different users (grouped by repositories) projected into 3D by PCA')\n",
    "plt.show()"
   ]
  },
  {
   "cell_type": "code",
   "execution_count": 29,
   "metadata": {
    "collapsed": true
   },
   "outputs": [],
   "source": [
    "#this code transforms the \n",
    "fig=plt.figure()\n",
    "ax=fig.gca(projection='3d')\n",
    "ax.scatter(projectedPca3d[:,0],projectedPca3d[:,1],projectedPca3d[:,2])\n",
    "i=0\n",
    "\n",
    "for (x,y,z) in projectedPca3d:\n",
    "    #print x,y,z\n",
    "    ax.text(x,y,z,users[i],size='7')\n",
    "    i+=1\n",
    "plt.title('Different users(name) projected into 3D by PCA')\n",
    "plt.savefig('Different users(name) projected into 3D by PCA')\n",
    "plt.show()"
   ]
  },
  {
   "cell_type": "code",
   "execution_count": 30,
   "metadata": {
    "collapsed": true
   },
   "outputs": [],
   "source": [
    "fig=plt.figure()\n",
    "ax=fig.gca(projection='3d')\n",
    "ax.scatter(projectedPca3d[:,0],projectedPca3d[:,1],projectedPca3d[:,2])\n",
    "i=0\n",
    "\n",
    "for (x,y,z) in projectedPca3d:\n",
    "    #print x,y,z\n",
    "    ax.text(x,y,z,users[i],size='7')\n",
    "    i+=1\n",
    "plt.title('Different users(name) projected into 3D by PCA')\n",
    "plt.savefig('Different users(name) projected into 3D by PCA')\n",
    "plt.show()"
   ]
  },
  {
   "cell_type": "code",
   "execution_count": 33,
   "metadata": {
    "collapsed": false
   },
   "outputs": [
    {
     "name": "stdout",
     "output_type": "stream",
     "text": [
      "dataForPca is \n",
      "(1000, 37)\n",
      "eigs 1 is  (37,)\n",
      "the relative variances shown by each feature indiviually is \n",
      "[  8.92008972e+01   5.47844934e+00   3.87312651e+00   9.02009368e-01\n",
      "   2.77066588e-01   7.35582113e-02   5.35763577e-02   3.85959968e-02\n",
      "   3.16299237e-02   1.79991834e-02   1.59916971e-02   1.03785619e-02\n",
      "   8.37135129e-03   4.37403377e-03   3.83321126e-03   3.31408926e-03\n",
      "   2.89165694e-03   2.18758639e-03   9.87214444e-05   6.23079632e-06\n",
      "   3.73652620e-05   8.43866554e-04   7.52632448e-04   0.00000000e+00\n",
      "   0.00000000e+00   0.00000000e+00   0.00000000e+00   0.00000000e+00\n",
      "   0.00000000e+00   0.00000000e+00   0.00000000e+00   0.00000000e+00\n",
      "   0.00000000e+00   0.00000000e+00   0.00000000e+00   0.00000000e+00\n",
      "   0.00000000e+00]\n"
     ]
    }
   ],
   "source": [
    "#This code computes the principle components for the data X\n",
    "def  normalize(data):\n",
    "    means=np.mean(data,axis=0)\n",
    "    #stds=np.std(data,axis=0)\n",
    "    for i in range(data.shape[0]):\n",
    "        data[i]=data[i]-means\n",
    "        #data[i]=data[i]/stds\n",
    "    return data\n",
    "\n",
    "print 'dataForPca is \\n',dataForPca.shape\n",
    "centeredData=normalize(dataForPca)\n",
    "#print 'centered data is ',centeredData\n",
    "cov1=np.cov(centeredData.T)\n",
    "\n",
    "cov1=np.asarray(cov1,dtype=np.float32)\n",
    "eigs1=np.linalg.eigvals(cov1)\n",
    "print 'eigs 1 is ',eigs1.shape\n",
    "plt.figure()\n",
    "plt.bar(range(37),eigs1/np.sum(eigs1))\n",
    "plt.title('Relative Variances Explained by each feature ( by Singular Value Decomposition)')\n",
    "plt.xticks(range(37),columns[3:39],rotation='vertical')\n",
    "plt.savefig('Relative Variances Explained by each feature ( by Singular Value Decomposition)')\n",
    "plt.show()\n",
    "print 'the relative variances shown by each feature indiviually is \\n',eigs1/np.sum(eigs1) *100 "
   ]
  },
  {
   "cell_type": "code",
   "execution_count": null,
   "metadata": {
    "collapsed": false
   },
   "outputs": [],
   "source": [
    "pattern='[a-zA-Z0-9-_@#%^&():;\\'\\[\\]!~=+,.]*/pulls'\n",
    "s1='https://api.github.com/repos/tensorflow/shog;un-t_oolbox/pulls/comments?access_token=6fca6b10547db86c496e728cde80b715f7e4099a&per_page=300'\n",
    "a=re.search(pattern,s1)\n",
    "print a.group(0)[0:-6]"
   ]
  }
 ],
 "metadata": {
  "kernelspec": {
   "display_name": "Python 2",
   "language": "python",
   "name": "python2"
  },
  "language_info": {
   "codemirror_mode": {
    "name": "ipython",
    "version": 2
   },
   "file_extension": ".py",
   "mimetype": "text/x-python",
   "name": "python",
   "nbconvert_exporter": "python",
   "pygments_lexer": "ipython2",
   "version": "2.7.6"
  }
 },
 "nbformat": 4,
 "nbformat_minor": 1
}
