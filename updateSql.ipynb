{
 "cells": [
  {
   "cell_type": "code",
   "execution_count": 1,
   "metadata": {
    "collapsed": true
   },
   "outputs": [],
   "source": [
    "import json\n",
    "import requests\n",
    "from github import Github\n",
    "import mysql.connector\n",
    "from mysql.connector import errorcode"
   ]
  },
  {
   "cell_type": "code",
   "execution_count": 2,
   "metadata": {
    "collapsed": false
   },
   "outputs": [
    {
     "name": "stdout",
     "output_type": "stream",
     "text": [
      "jalcine\n"
     ]
    }
   ],
   "source": [
    "access_token='0231643decfea4f7c1d16fdcf893dc6b85592da9'\n",
    "\n",
    "url=\"https://api.github.com/repos/torvalds/linux/comments?access_token=0231643decfea4f7c1d16fdcf893dc6b85592da9\"\n",
    "response=requests.get(url)\n",
    "\n",
    "\n",
    "\n",
    "#print json.dumps(response.json()[0], indent=1)\n",
    "\n",
    "q1=response.json()[0]\n",
    "commented_repo=\"linux\"\n",
    "body=q1[\"body\"]\n",
    "print q1[\"user\"][\"login\"]\n",
    "user=q1[\"user\"]"
   ]
  },
  {
   "cell_type": "code",
   "execution_count": 3,
   "metadata": {
    "collapsed": false
   },
   "outputs": [],
   "source": [
    "config = {\n",
    "  'user': 'root',\n",
    "  'password': 'resnick1',\n",
    "  'host': '127.0.0.1',\n",
    "  'database': 'UserComments',\n",
    "  'raise_on_warnings': True,\n",
    "}\n",
    "cnx = mysql.connector.connect(**config)\n",
    "cursor = cnx.cursor()\n"
   ]
  },
  {
   "cell_type": "code",
   "execution_count": null,
   "metadata": {
    "collapsed": true
   },
   "outputs": [],
   "source": [
    "add_comment = (\"INSERT INTO comments \"\n",
    "               \"(login,id,commented_repo,avatar_url,gravatar_id,followers_url,following_url,gists_url,starred_url,subscriptions_url,organizations_url,repos_url,events_url,received_events_url,type,body) \"\n",
    "               \"VALUES (%s, %s, %s, %s, %s,%s, %s, %s, %s, %s,%s, %s, %s, %s, %s,%s)\")"
   ]
  },
  {
   "cell_type": "code",
   "execution_count": null,
   "metadata": {
    "collapsed": false
   },
   "outputs": [],
   "source": [
    "cursor.execute(add_comment,(user[\"login\"],user[\"id\"],commented_repo,user[\"avatar_url\"],user[\"gravatar_id\"],user[\"followers_url\"],user[\"following_url\"],user[\"gists_url\"],user[\"starred_url\"],user[\"subscriptions_url\"],user[\"organizations_url\"],user[\"repos_url\"],user[\"events_url\"],user[\"received_events_url\"],user[\"type\"],body))"
   ]
  },
  {
   "cell_type": "code",
   "execution_count": 20,
   "metadata": {
    "collapsed": false
   },
   "outputs": [
    {
     "name": "stdout",
     "output_type": "stream",
     "text": [
      "res is  1\n"
     ]
    }
   ],
   "source": [
    "cid=452100\n",
    "query = (\"SELECT COUNT(*) FROM comments WHERE id=%s\")\n",
    "cursor.execute(query,(cid,))\n",
    "(res,)=cursor.fetchone()\n",
    "print 'res is ',res"
   ]
  },
  {
   "cell_type": "code",
   "execution_count": null,
   "metadata": {
    "collapsed": false
   },
   "outputs": [],
   "source": [
    "for (id,) in cursor:\n",
    "    print 'id is ',id\n",
    "\n",
    "cursor.close()\n",
    "cnx.close()"
   ]
  }
 ],
 "metadata": {
  "kernelspec": {
   "display_name": "Python 2",
   "language": "python",
   "name": "python2"
  },
  "language_info": {
   "codemirror_mode": {
    "name": "ipython",
    "version": 2
   },
   "file_extension": ".py",
   "mimetype": "text/x-python",
   "name": "python",
   "nbconvert_exporter": "python",
   "pygments_lexer": "ipython2",
   "version": "2.7.6"
  }
 },
 "nbformat": 4,
 "nbformat_minor": 0
}
